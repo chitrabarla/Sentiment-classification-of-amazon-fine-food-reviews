{
 "cells": [
  {
   "cell_type": "markdown",
   "metadata": {},
   "source": [
    "# ----------------------AMAZON FINE FOOD REVIEW DATASET-----------------------\n",
    "### PREDICTING RATING FROM USER REVIEWS(SUMMARY AND TEXT)"
   ]
  },
  {
   "cell_type": "markdown",
   "metadata": {},
   "source": [
    "1. Reading the Data and taking only necessary columns -- score, summary and text"
   ]
  },
  {
   "cell_type": "code",
   "execution_count": 1,
   "metadata": {},
   "outputs": [
    {
     "name": "stdout",
     "output_type": "stream",
     "text": [
      "+-----+--------------------+--------------------+\n",
      "|score|             summary|                text|\n",
      "+-----+--------------------+--------------------+\n",
      "|    5|Good Quality Dog ...|I have bought sev...|\n",
      "|    1|   Not as Advertised|\"Product arrived ...|\n",
      "|    4|\"\"\"Delight\"\" says...|\"This is a confec...|\n",
      "|    2|      Cough Medicine|If you are lookin...|\n",
      "|    5|         Great taffy|Great taffy at a ...|\n",
      "+-----+--------------------+--------------------+\n",
      "only showing top 5 rows\n",
      "\n"
     ]
    }
   ],
   "source": [
    "import org.apache.spark.sql.types.{StringType, StructField, StructType}\n",
    "import org.apache.spark.ml.classification.{ RandomForestClassifier, LogisticRegression}\n",
    "var reader=spark.read\n",
    "reader.option(\"inferSchema\",true).option(\"header\",true).option(\"delimiter\",\",\")\n",
    "var data=reader.csv(\"./reviews_5000.csv\")\n",
    "var reviews=data.select(\"score\",\"summary\",\"text\").na.drop()\n",
    "reviews.show(5)"
   ]
  },
  {
   "cell_type": "markdown",
   "metadata": {},
   "source": [
    "2. Encoding score to Positive or negative based on value of each sample"
   ]
  },
  {
   "cell_type": "code",
   "execution_count": 2,
   "metadata": {},
   "outputs": [
    {
     "name": "stdout",
     "output_type": "stream",
     "text": [
      "+--------+--------------------+--------------------+\n",
      "|   score|             summary|                text|\n",
      "+--------+--------------------+--------------------+\n",
      "|Positive|Good Quality Dog ...|I have bought sev...|\n",
      "|Negative|   Not as Advertised|\"Product arrived ...|\n",
      "|Positive|\"\"\"Delight\"\" says...|\"This is a confec...|\n",
      "|Negative|      Cough Medicine|If you are lookin...|\n",
      "|Positive|         Great taffy|Great taffy at a ...|\n",
      "+--------+--------------------+--------------------+\n",
      "only showing top 5 rows\n",
      "\n"
     ]
    }
   ],
   "source": [
    "import org.apache.spark.sql.functions._\n",
    "var scores = reviews.select(\"score\")\n",
    "val scoreReviews = reviews.withColumn(\"score\", when(col(\"score\") >=3, \"Positive\").otherwise(\"Negative\"))\n",
    "scoreReviews.show(5)"
   ]
  },
  {
   "cell_type": "markdown",
   "metadata": {},
   "source": [
    "#------------------DATA PREPROCESSING----------------#"
   ]
  },
  {
   "cell_type": "markdown",
   "metadata": {},
   "source": [
    "3. Tokenization - breaking the text and summary columns into individual words. It also removes punctuations."
   ]
  },
  {
   "cell_type": "code",
   "execution_count": 3,
   "metadata": {},
   "outputs": [
    {
     "name": "stdout",
     "output_type": "stream",
     "text": [
      "+--------------------+--------------------+--------------------+--------------------+-------------+----------+\n",
      "|             summary|       summaryTokens|                text|          textTokens|tokensSummary|tokensText|\n",
      "+--------------------+--------------------+--------------------+--------------------+-------------+----------+\n",
      "|good quality dog ...|[good, quality, d...|i have bought sev...|[i, have, bought,...|            4|        48|\n",
      "|   not as advertised|[not, as, adverti...|\"product arrived ...|[product, arrived...|            3|        32|\n",
      "|\"\"\"delight\"\" says...|[delight, says, i...|\"this is a confec...|[this, is, a, con...|            4|        71|\n",
      "|      cough medicine|   [cough, medicine]|if you are lookin...|[if, you, are, lo...|            2|        41|\n",
      "|         great taffy|      [great, taffy]|great taffy at a ...|[great, taffy, at...|            2|        27|\n",
      "+--------------------+--------------------+--------------------+--------------------+-------------+----------+\n",
      "only showing top 5 rows\n",
      "\n"
     ]
    }
   ],
   "source": [
    "import org.apache.spark.ml.feature.{RegexTokenizer, Tokenizer}\n",
    "val scoreReviewsLowered = scoreReviews.withColumn(\"summary\", lower(col(\"summary\"))).withColumn(\"text\", lower(col(\"text\")))\n",
    "val textTokenized = new RegexTokenizer().setInputCol(\"text\").setOutputCol(\"textTokens\").setPattern(\"\\\\w+\").setGaps(false).transform(scoreReviewsLowered)\n",
    "val tokenizedData = new RegexTokenizer().setInputCol(\"summary\").setOutputCol(\"summaryTokens\").setPattern(\"\\\\w+\").setGaps(false).transform(textTokenized)\n",
    "val countTokens = udf { (words: Seq[String]) => words.length }\n",
    "tokenizedData.select(\"summary\",\"summaryTokens\",\"text\",\"textTokens\").withColumn(\"tokensSummary\", countTokens(col(\"summaryTokens\"))).withColumn(\"tokensText\", countTokens(col(\"textTokens\"))).show(5)"
   ]
  },
  {
   "cell_type": "markdown",
   "metadata": {},
   "source": [
    "4. Stop words removal - This step removes all the unneccessary words which do not help in prediction."
   ]
  },
  {
   "cell_type": "code",
   "execution_count": 4,
   "metadata": {},
   "outputs": [
    {
     "name": "stdout",
     "output_type": "stream",
     "text": [
      "+--------+--------------------+--------------------+--------------------+--------------------+--------------------+--------------------+\n",
      "|   score|             summary|                text|          textTokens|       summaryTokens|        filteredText|     filteredSummary|\n",
      "+--------+--------------------+--------------------+--------------------+--------------------+--------------------+--------------------+\n",
      "|Positive|good quality dog ...|i have bought sev...|[i, have, bought,...|[good, quality, d...|[bought, several,...|[good, quality, d...|\n",
      "|Negative|   not as advertised|\"product arrived ...|[product, arrived...|[not, as, adverti...|[product, arrived...|        [advertised]|\n",
      "|Positive|\"\"\"delight\"\" says...|\"this is a confec...|[this, is, a, con...|[delight, says, i...|[confection, arou...|     [delight, says]|\n",
      "|Negative|      cough medicine|if you are lookin...|[if, you, are, lo...|   [cough, medicine]|[looking, secret,...|   [cough, medicine]|\n",
      "|Positive|         great taffy|great taffy at a ...|[great, taffy, at...|      [great, taffy]|[great, taffy, gr...|      [great, taffy]|\n",
      "+--------+--------------------+--------------------+--------------------+--------------------+--------------------+--------------------+\n",
      "only showing top 5 rows\n",
      "\n"
     ]
    }
   ],
   "source": [
    "import org.apache.spark.ml.feature.StopWordsRemover\n",
    "val filteredTextData = new StopWordsRemover().setInputCol(\"textTokens\").setOutputCol(\"filteredText\").transform(tokenizedData)\n",
    "val filteredData = new StopWordsRemover().setInputCol(\"summaryTokens\").setOutputCol(\"filteredSummary\").transform(filteredTextData)\n",
    "filteredData.show(5)"
   ]
  },
  {
   "cell_type": "markdown",
   "metadata": {},
   "source": [
    "5. It extracts the vocabulary and converts into vectors, assigns numeric values to unique words and counts their occurrences"
   ]
  },
  {
   "cell_type": "code",
   "execution_count": 5,
   "metadata": {},
   "outputs": [
    {
     "name": "stdout",
     "output_type": "stream",
     "text": [
      "+--------+--------------------+--------------------+--------------------+--------------------+--------------------+--------------------+--------------------+--------------------+\n",
      "|   score|             summary|                text|          textTokens|       summaryTokens|        filteredText|     filteredSummary|          vectorText|       vectorSummary|\n",
      "+--------+--------------------+--------------------+--------------------+--------------------+--------------------+--------------------+--------------------+--------------------+\n",
      "|Positive|good quality dog ...|i have bought sev...|[i, have, bought,...|[good, quality, d...|[bought, several,...|[good, quality, d...|(12442,[1,2,5,11,...|(3048,[1,10,11,39...|\n",
      "|Negative|   not as advertised|\"product arrived ...|[product, arrived...|[not, as, adverti...|[product, arrived...|        [advertised]|(12442,[5,114,140...|  (3048,[720],[1.0])|\n",
      "|Positive|\"\"\"delight\"\" says...|\"this is a confec...|[this, is, a, con...|[delight, says, i...|[confection, arou...|     [delight, says]|(12442,[49,52,166...|(3048,[364,869],[...|\n",
      "|Negative|      cough medicine|if you are lookin...|[if, you, are, lo...|   [cough, medicine]|[looking, secret,...|   [cough, medicine]|(12442,[2,7,41,48...|(3048,[1201,1635]...|\n",
      "|Positive|         great taffy|great taffy at a ...|[great, taffy, at...|      [great, taffy]|[great, taffy, gr...|      [great, taffy]|(12442,[3,28,259,...|(3048,[0,613],[1....|\n",
      "|Positive|          nice taffy|i got a wild hair...|[i, got, a, wild,...|       [nice, taffy]|[got, wild, hair,...|       [nice, taffy]|(12442,[15,34,50,...|(3048,[38,613],[1...|\n",
      "|Positive|great!  just as g...|this saltwater ta...|[this, saltwater,...|[great, just, as,...|[saltwater, taffy...|[great, good, exp...|(12442,[3,36,50,5...|(3048,[0,1,97,742...|\n",
      "|Positive|wonderful, tasty ...|this taffy is so ...|[this, taffy, is,...|[wonderful, tasty...|[taffy, good, sof...|[wonderful, tasty...|(12442,[2,50,52,1...|(3048,[18,40,613]...|\n",
      "|Positive|          yay barley|right now i'm mos...|[right, now, i, m...|       [yay, barley]|[right, m, mostly...|       [yay, barley]|(12442,[8,32,38,9...|(3048,[1035,1185]...|\n",
      "|Positive|    healthy dog food|this is a very he...|[this, is, a, ver...|[healthy, dog, food]|[healthy, dog, fo...|[healthy, dog, food]|(12442,[2,11,26,4...|(3048,[10,11,29],...|\n",
      "+--------+--------------------+--------------------+--------------------+--------------------+--------------------+--------------------+--------------------+--------------------+\n",
      "only showing top 10 rows\n",
      "\n"
     ]
    }
   ],
   "source": [
    "import org.apache.spark.ml.feature.{CountVectorizer}\n",
    "val vectorizedText = new CountVectorizer().setInputCol(\"filteredText\").setOutputCol(\"vectorText\").fit(filteredData).transform(filteredData)\n",
    "val vectorizedData = new CountVectorizer().setInputCol(\"filteredSummary\").setOutputCol(\"vectorSummary\").fit(vectorizedText).transform(vectorizedText)\n",
    "vectorizedData.show(10)"
   ]
  },
  {
   "cell_type": "code",
   "execution_count": null,
   "metadata": {
    "collapsed": true
   },
   "outputs": [],
   "source": [
    "6. Using StringIndexer the categorical data score is coverted to numerical."
   ]
  },
  {
   "cell_type": "code",
   "execution_count": 19,
   "metadata": {},
   "outputs": [
    {
     "name": "stdout",
     "output_type": "stream",
     "text": [
      "+--------+--------------------+--------------------+--------------------+--------------------+--------------------+--------------------+--------------------+--------------------+----------+\n",
      "|   score|             summary|                text|          textTokens|       summaryTokens|        filteredText|     filteredSummary|          vectorText|       vectorSummary|scoreIndex|\n",
      "+--------+--------------------+--------------------+--------------------+--------------------+--------------------+--------------------+--------------------+--------------------+----------+\n",
      "|Positive|good quality dog ...|i have bought sev...|[i, have, bought,...|[good, quality, d...|[bought, several,...|[good, quality, d...|(12442,[1,2,5,11,...|(3048,[1,10,11,39...|       0.0|\n",
      "|Negative|   not as advertised|\"product arrived ...|[product, arrived...|[not, as, adverti...|[product, arrived...|        [advertised]|(12442,[5,114,140...|  (3048,[720],[1.0])|       1.0|\n",
      "|Positive|\"\"\"delight\"\" says...|\"this is a confec...|[this, is, a, con...|[delight, says, i...|[confection, arou...|     [delight, says]|(12442,[49,52,166...|(3048,[364,869],[...|       0.0|\n",
      "|Negative|      cough medicine|if you are lookin...|[if, you, are, lo...|   [cough, medicine]|[looking, secret,...|   [cough, medicine]|(12442,[2,7,41,48...|(3048,[1201,1635]...|       1.0|\n",
      "|Positive|         great taffy|great taffy at a ...|[great, taffy, at...|      [great, taffy]|[great, taffy, gr...|      [great, taffy]|(12442,[3,28,259,...|(3048,[0,613],[1....|       0.0|\n",
      "+--------+--------------------+--------------------+--------------------+--------------------+--------------------+--------------------+--------------------+--------------------+----------+\n",
      "only showing top 5 rows\n",
      "\n"
     ]
    }
   ],
   "source": [
    "import org.apache.spark.ml.feature.{StringIndexer}\n",
    "val indexedData = new StringIndexer().setInputCol(\"score\").setOutputCol(\"scoreIndex\").fit(vectorizedData).transform(vectorizedData)\n",
    "indexedData.show(5)"
   ]
  },
  {
   "cell_type": "code",
   "execution_count": 20,
   "metadata": {
    "collapsed": true
   },
   "outputs": [],
   "source": [
    "import org.apache.spark.ml.feature.RFormula\n",
    "val rFormula = new RFormula().setFormula(\"scoreIndex ~ vectorSummary\") \n",
    "val preparedData = rFormula.fit(indexedData).transform(indexedData)"
   ]
  },
  {
   "cell_type": "code",
   "execution_count": 21,
   "metadata": {
    "collapsed": true
   },
   "outputs": [],
   "source": [
    "val Array(train, test) = preparedData.randomSplit(Array(0.8,0.2)) "
   ]
  },
  {
   "cell_type": "code",
   "execution_count": 22,
   "metadata": {},
   "outputs": [],
   "source": [
    "import org.apache.spark.ml.classification.LogisticRegression\n",
    "val logisticRegression = new LogisticRegression()\n",
    "val logisticRegressionModel = logisticRegression.fit(train)\n",
    "val predictionsLogistic = logisticRegressionModel.transform(test)"
   ]
  },
  {
   "cell_type": "code",
   "execution_count": 23,
   "metadata": {},
   "outputs": [
    {
     "name": "stdout",
     "output_type": "stream",
     "text": [
      " Precision = 0.4642857\n",
      " Recall = 0.5693431\n",
      " Accuracy= 0.8470226\n"
     ]
    }
   ],
   "source": [
    "val labelPositives = predictionsLogistic.where(expr(\"label == 1.0\"))\n",
    "val labelNegatives = predictionsLogistic.where(expr(\"label == 0.0\"))\n",
    "val falseNegatives = labelPositives.where(expr(\"label != prediction\")).count()\n",
    "val falsePositives = labelNegatives.where(expr(\"label != prediction\")).count()\n",
    "val trueNegatives  = labelNegatives.where(expr(\"label == prediction\")).count()\n",
    "val truePositives  = labelPositives.where(expr(\"label == prediction\")).count()\n",
    "println(\" Precision = \" + truePositives.toFloat/(falsePositives + truePositives))\n",
    "println(\" Recall = \" + truePositives.toFloat/(falseNegatives + truePositives))\n",
    "println(\" Accuracy= \" + (truePositives+trueNegatives).toFloat/(falsePositives + trueNegatives+falseNegatives + truePositives))"
   ]
  },
  {
   "cell_type": "code",
   "execution_count": 25,
   "metadata": {
    "collapsed": true
   },
   "outputs": [],
   "source": [
    "import org.apache.spark.ml.classification.RandomForestClassifier\n",
    "val randomForest = new RandomForestClassifier().setImpurity(\"gini\").setMaxDepth(3).setNumTrees(10).setFeatureSubsetStrategy(\"auto\").setSeed(5043)\n",
    "val randomForestModel = randomForest.fit(train)\n",
    "val predictionsRandomForest = model.transform(test)"
   ]
  },
  {
   "cell_type": "code",
   "execution_count": 26,
   "metadata": {},
   "outputs": [
    {
     "name": "stdout",
     "output_type": "stream",
     "text": [
      " Precision = 0.8375\n",
      " Recall = 0.4890511\n",
      " Accuracy= 0.9147844\n"
     ]
    }
   ],
   "source": [
    "val labelPositives = predictionsRandomForest.where(expr(\"label == 1.0\"))\n",
    "val labelNegatives = predictionsRandomForest.where(expr(\"label == 0.0\"))\n",
    "val falseNegatives = labelPositives.where(expr(\"label != prediction\")).count()\n",
    "val falsePositives = labelNegatives.where(expr(\"label != prediction\")).count()\n",
    "val trueNegatives  = labelNegatives.where(expr(\"label == prediction\")).count()\n",
    "val truePositives  = labelPositives.where(expr(\"label == prediction\")).count()\n",
    "println(\" Precision = \" + truePositives.toFloat/(falsePositives + truePositives))\n",
    "println(\" Recall = \" + truePositives.toFloat/(falseNegatives + truePositives))\n",
    "println(\" Accuracy= \" + (truePositives+trueNegatives).toFloat/(falsePositives + trueNegatives+falseNegatives + truePositives))"
   ]
  },
  {
   "cell_type": "code",
   "execution_count": 27,
   "metadata": {
    "collapsed": true
   },
   "outputs": [],
   "source": [
    "import org.apache.spark.ml.classification.NaiveBayes\n",
    "val naiveBayesModel = new NaiveBayes().fit(train)\n",
    "val predictionsNaiveBayes = naiveBayesModel.transform(test)"
   ]
  },
  {
   "cell_type": "code",
   "execution_count": 28,
   "metadata": {},
   "outputs": [
    {
     "name": "stdout",
     "output_type": "stream",
     "text": [
      " Precision = 0.56666666\n",
      " Recall = 0.37226278\n",
      " Accuracy= 0.8716633\n"
     ]
    }
   ],
   "source": [
    "val labelPositives = predictionsNaiveBayes.where(expr(\"label == 1.0\"))\n",
    "val labelNegatives = predictionsNaiveBayes.where(expr(\"label == 0.0\"))\n",
    "val falseNegatives = labelPositives.where(expr(\"label != prediction\")).count()\n",
    "val falsePositives = labelNegatives.where(expr(\"label != prediction\")).count()\n",
    "val trueNegatives  = labelNegatives.where(expr(\"label == prediction\")).count()\n",
    "val truePositives  = labelPositives.where(expr(\"label == prediction\")).count()\n",
    "println(\" Precision = \" + truePositives.toFloat/(falsePositives + truePositives))\n",
    "println(\" Recall = \" + truePositives.toFloat/(falseNegatives + truePositives))\n",
    "println(\" Accuracy= \" + (truePositives+trueNegatives).toFloat/(falsePositives + trueNegatives+falseNegatives + truePositives))"
   ]
  },
  {
   "cell_type": "code",
   "execution_count": 30,
   "metadata": {},
   "outputs": [],
   "source": [
    "import org.apache.spark.ml.feature.RFormula\n",
    "val formula2 = new RFormula().setFormula(\"scoreIndex ~ vectorSummary + vectorText\") \n",
    "val preparedDF = formula2.fit(indexedData).transform(indexedData)"
   ]
  },
  {
   "cell_type": "code",
   "execution_count": 31,
   "metadata": {
    "collapsed": true
   },
   "outputs": [],
   "source": [
    "val Array(train, test) = preparedDF.randomSplit(Array(0.8,0.2)) "
   ]
  },
  {
   "cell_type": "code",
   "execution_count": 32,
   "metadata": {
    "collapsed": true
   },
   "outputs": [],
   "source": [
    "import org.apache.spark.ml.classification.LogisticRegression\n",
    "val logisticRegression = new LogisticRegression()\n",
    "val logisticRegressionModel = logisticRegression.fit(train)\n",
    "val predictionsLogistic = logisticRegressionModel.transform(test)"
   ]
  },
  {
   "cell_type": "code",
   "execution_count": 33,
   "metadata": {},
   "outputs": [
    {
     "name": "stdout",
     "output_type": "stream",
     "text": [
      " Precision = 0.6694915\n",
      " Recall = 0.47878787\n",
      " Accuracy= 0.879692\n"
     ]
    }
   ],
   "source": [
    "val labelPositives = predictionsLogistic.where(expr(\"label == 1.0\"))\n",
    "val labelNegatives = predictionsLogistic.where(expr(\"label == 0.0\"))\n",
    "val falseNegatives = labelPositives.where(expr(\"label != prediction\")).count()\n",
    "val falsePositives = labelNegatives.where(expr(\"label != prediction\")).count()\n",
    "val trueNegatives  = labelNegatives.where(expr(\"label == prediction\")).count()\n",
    "val truePositives  = labelPositives.where(expr(\"label == prediction\")).count()\n",
    "println(\" Precision = \" + truePositives.toFloat/(falsePositives + truePositives))\n",
    "println(\" Recall = \" + truePositives.toFloat/(falseNegatives + truePositives))\n",
    "println(\" Accuracy= \" + (truePositives+trueNegatives).toFloat/(falsePositives + trueNegatives+falseNegatives + truePositives))"
   ]
  },
  {
   "cell_type": "code",
   "execution_count": null,
   "metadata": {
    "collapsed": true
   },
   "outputs": [],
   "source": []
  }
 ],
 "metadata": {
  "kernelspec": {
   "display_name": "Apache Toree - Scala",
   "language": "scala",
   "name": "apache_toree_scala"
  },
  "language_info": {
   "file_extension": ".scala",
   "name": "scala",
   "version": "2.11.8"
  }
 },
 "nbformat": 4,
 "nbformat_minor": 2
}
